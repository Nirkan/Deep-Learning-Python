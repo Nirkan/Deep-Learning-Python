{
 "cells": [
  {
   "cell_type": "code",
   "execution_count": 19,
   "metadata": {},
   "outputs": [],
   "source": [
    "## Import packages\n",
    "\n",
    "import numpy as np\n",
    "import pandas as pd\n",
    "import matplotlib.pyplot as plt\n",
    "import cv2\n",
    "import tensorflow as tf\n",
    "from PIL import Image\n",
    "import os\n",
    "from sklearn.model_selection import train_test_split\n",
    "from keras.utils import to_categorical\n",
    "from keras.models import Sequential, load_model\n",
    "from keras.layers import Conv2D, MaxPool2D, Dense, Flatten, Dropout"
   ]
  },
  {
   "cell_type": "code",
   "execution_count": 26,
   "metadata": {},
   "outputs": [],
   "source": [
    "data = []\n",
    "labels = []\n",
    "classes = 43\n",
    "cur_path = os.getcwd()\n",
    "\n",
    "\n",
    "## Retrieving the images and their labels\n",
    "for i in range(classes):\n",
    "    path = os.path.join(cur_path,'train',str(i))\n",
    "    images = os.listdir(path)\n",
    "\n",
    "    \n",
    "    for a in images:\n",
    "        try: \n",
    "            image = Image.open(path + '/'+ a)\n",
    "            image = image.resize((30,30))\n",
    "            image = np.array(image)\n",
    "            data.append(image)\n",
    "            labels.append(i)\n",
    "            \n",
    "        except:\n",
    "            print(\"Error loading image\") "
   ]
  },
  {
   "cell_type": "code",
   "execution_count": 27,
   "metadata": {},
   "outputs": [
    {
     "name": "stdout",
     "output_type": "stream",
     "text": [
      "(39209, 30, 30, 3) (39209,)\n"
     ]
    }
   ],
   "source": [
    "## Converting lists into numpy arrays\n",
    "data = np.array(data)\n",
    "labels = np.array(labels)\n",
    "\n",
    "print(data.shape, labels.shape)"
   ]
  },
  {
   "cell_type": "code",
   "execution_count": 28,
   "metadata": {},
   "outputs": [
    {
     "name": "stdout",
     "output_type": "stream",
     "text": [
      "(31367, 30, 30, 3) (7842, 30, 30, 3) (31367,) (7842,)\n"
     ]
    }
   ],
   "source": [
    "## Splitting training and testing dataset\n",
    "\n",
    "X_train, X_test, y_train, y_test = train_test_split(data, labels, test_size = 0.2, random_state = 42)\n",
    "\n",
    "print(X_train.shape, X_test.shape, y_train.shape, y_test.shape)"
   ]
  },
  {
   "cell_type": "code",
   "execution_count": 29,
   "metadata": {},
   "outputs": [],
   "source": [
    "## Converting the labels into one hot encoding\n",
    "y_train = to_categorical(y_train, 43)\n",
    "y_test = to_categorical(y_test, 43)"
   ]
  },
  {
   "cell_type": "code",
   "execution_count": 31,
   "metadata": {},
   "outputs": [],
   "source": [
    "## Building the model\n",
    "model = Sequential()\n",
    "model.add(Conv2D(filters=32, kernel_size = (5,5), activation = 'relu', input_shape = X_train.shape[1:]))\n",
    "model.add(Conv2D(filters=32, kernel_size = (5,5), activation = 'relu'))\n",
    "model.add(MaxPool2D(pool_size = (2, 2)))\n",
    "model.add(Dropout(rate = 0.25))\n",
    "model.add(Conv2D(filters=64, kernel_size = (3,3), activation = 'relu'))\n",
    "model.add(Conv2D(filters=64, kernel_size = (3,3), activation = 'relu'))\n",
    "model.add(MaxPool2D(pool_size=(2,2)))\n",
    "model.add(Dropout(rate=0.25))\n",
    "model.add(Flatten())\n",
    "model.add(Dense(256, activation = 'relu'))\n",
    "model.add(Dropout(rate = 0.5))\n",
    "model.add(Dense(43, activation='softmax'))"
   ]
  },
  {
   "cell_type": "code",
   "execution_count": 33,
   "metadata": {},
   "outputs": [
    {
     "name": "stdout",
     "output_type": "stream",
     "text": [
      "WARNING:tensorflow:From /home/lokesh/anaconda3/lib/python3.7/site-packages/keras/backend/tensorflow_backend.py:422: The name tf.global_variables is deprecated. Please use tf.compat.v1.global_variables instead.\n",
      "\n",
      "Train on 31367 samples, validate on 7842 samples\n",
      "Epoch 1/15\n",
      "31367/31367 [==============================] - 44s 1ms/step - loss: 2.2310 - accuracy: 0.4133 - val_loss: 0.9130 - val_accuracy: 0.7485\n",
      "Epoch 2/15\n",
      "31367/31367 [==============================] - 43s 1ms/step - loss: 1.0587 - accuracy: 0.6781 - val_loss: 0.5135 - val_accuracy: 0.8495\n",
      "Epoch 3/15\n",
      "31367/31367 [==============================] - 46s 1ms/step - loss: 0.6868 - accuracy: 0.7871 - val_loss: 0.2832 - val_accuracy: 0.9199\n",
      "Epoch 4/15\n",
      "31367/31367 [==============================] - 48s 2ms/step - loss: 0.5076 - accuracy: 0.8428 - val_loss: 0.2349 - val_accuracy: 0.9351\n",
      "Epoch 5/15\n",
      "31367/31367 [==============================] - 50s 2ms/step - loss: 0.4168 - accuracy: 0.8709 - val_loss: 0.1543 - val_accuracy: 0.9552\n",
      "Epoch 6/15\n",
      "31367/31367 [==============================] - 52s 2ms/step - loss: 0.3640 - accuracy: 0.8884 - val_loss: 0.1430 - val_accuracy: 0.9583\n",
      "Epoch 7/15\n",
      "31367/31367 [==============================] - 52s 2ms/step - loss: 0.3219 - accuracy: 0.9041 - val_loss: 0.1335 - val_accuracy: 0.9612\n",
      "Epoch 8/15\n",
      "31367/31367 [==============================] - 53s 2ms/step - loss: 0.3290 - accuracy: 0.9013 - val_loss: 0.1206 - val_accuracy: 0.9672\n",
      "Epoch 9/15\n",
      "31367/31367 [==============================] - 57s 2ms/step - loss: 0.2854 - accuracy: 0.9154 - val_loss: 0.1074 - val_accuracy: 0.9676\n",
      "Epoch 10/15\n",
      "31367/31367 [==============================] - 64s 2ms/step - loss: 0.2840 - accuracy: 0.9160 - val_loss: 0.0798 - val_accuracy: 0.9764\n",
      "Epoch 11/15\n",
      "31367/31367 [==============================] - 58s 2ms/step - loss: 0.2689 - accuracy: 0.9221 - val_loss: 0.1048 - val_accuracy: 0.9674\n",
      "Epoch 12/15\n",
      "31367/31367 [==============================] - 58s 2ms/step - loss: 0.2656 - accuracy: 0.9239 - val_loss: 0.0985 - val_accuracy: 0.9712\n",
      "Epoch 13/15\n",
      "31367/31367 [==============================] - 46s 1ms/step - loss: 0.2548 - accuracy: 0.9252 - val_loss: 0.1229 - val_accuracy: 0.9642\n",
      "Epoch 14/15\n",
      "31367/31367 [==============================] - 48s 2ms/step - loss: 0.2611 - accuracy: 0.9257 - val_loss: 0.0830 - val_accuracy: 0.9742\n",
      "Epoch 15/15\n",
      "31367/31367 [==============================] - 51s 2ms/step - loss: 0.2552 - accuracy: 0.9259 - val_loss: 0.0873 - val_accuracy: 0.9740\n"
     ]
    }
   ],
   "source": [
    "# Compilation of the model\n",
    "model.compile(loss = 'categorical_crossentropy', optimizer='adam', metrics = ['accuracy'])\n",
    "\n",
    "epochs = 15\n",
    "history = model.fit(X_train, y_train, batch_size=32, epochs=epochs, validation_data = (X_test, y_test))\n",
    "model.save(\"my_model.h5\")"
   ]
  },
  {
   "cell_type": "code",
   "execution_count": 34,
   "metadata": {},
   "outputs": [
    {
     "data": {
      "image/png": "[encoded data removed]",
      "text/plain": [
       "<Figure size 432x288 with 1 Axes>"
      ]
     },
     "metadata": {
      "needs_background": "light"
     },
     "output_type": "display_data"
    }
   ],
   "source": [
    "## Plotting graphs for accuracy\n",
    "plt.figure(0)\n",
    "plt.plot(history.history['accuracy'], label='training accuracy')\n",
    "plt.plot(history.history['val_accuracy'], label = 'val accuracy')\n",
    "plt.title('Accuracy')\n",
    "plt.xlabel('epochs')\n",
    "plt.ylabel('accuracy')\n",
    "plt.legend()\n",
    "plt.show()"
   ]
  },
  {
   "cell_type": "code",
   "execution_count": 35,
   "metadata": {},
   "outputs": [
    {
     "data": {
      "image/png": "[encoded data removed]",
      "text/plain": [
       "<Figure size 432x288 with 1 Axes>"
      ]
     },
     "metadata": {
      "needs_background": "light"
     },
     "output_type": "display_data"
    }
   ],
   "source": [
    "plt.figure(1)\n",
    "plt.plot(history.history['loss'], label='training loss')\n",
    "plt.plot(history.history['val_loss'], label = 'val loss')\n",
    "plt.title('Loss')\n",
    "plt.xlabel('epochs')\n",
    "plt.ylabel('loss')\n",
    "plt.legend()\n",
    "plt.show()"
   ]
  },
  {
   "cell_type": "code",
   "execution_count": 36,
   "metadata": {},
   "outputs": [
    {
     "name": "stdout",
     "output_type": "stream",
     "text": [
      "0.9338083927157561\n"
     ]
    }
   ],
   "source": [
    "## Testing accuracy on test dataset\n",
    "\n",
    "from sklearn.metrics import accuracy_score\n",
    "\n",
    "y_test = pd.read_csv('Test.csv')\n",
    "\n",
    "labels = y_test[\"ClassId\"].values\n",
    "imgs = y_test[\"Path\"].values\n",
    "\n",
    "data = []\n",
    "\n",
    "for img in imgs:\n",
    "    image = Image.open(img)\n",
    "    image = image.resize((30, 30))\n",
    "    data.append(np.array(image))\n",
    "    \n",
    "X_test = np.array(data)\n",
    "\n",
    "pred = model.predict_classes(X_test)\n",
    "\n",
    "## Accuracy with the test data\n",
    "\n",
    "from sklearn.metrics import accuracy_score\n",
    "print(accuracy_score(labels, pred))\n",
    "\n",
    "model.save('traffic_classifier.h5')"
   ]
  },
  {
   "cell_type": "code",
   "execution_count": null,
   "metadata": {},
   "outputs": [],
   "source": []
  }
 ],
 "metadata": {
  "kernelspec": {
   "display_name": "Python 3",
   "language": "python",
   "name": "python3"
  },
  "language_info": {
   "codemirror_mode": {
    "name": "ipython",
    "version": 3
   },
   "file_extension": ".py",
   "mimetype": "text/x-python",
   "name": "python",
   "nbconvert_exporter": "python",
   "pygments_lexer": "ipython3",
   "version": "3.7.3"
  }
 },
 "nbformat": 4,
 "nbformat_minor": 2
}
