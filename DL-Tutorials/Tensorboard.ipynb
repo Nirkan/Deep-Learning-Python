{
 "cells": [
  {
   "cell_type": "code",
   "execution_count": 13,
   "metadata": {},
   "outputs": [],
   "source": [
    "import tensorflow as tf\n",
    "from tensorflow.keras.models import Sequential\n",
    "from tensorflow.keras.layers import Dense, Dropout, Activation, Flatten, Conv2D, MaxPooling2D\n",
    "import pickle\n",
    "from tensorflow.keras.callbacks import TensorBoard\n",
    "import time"
   ]
  },
  {
   "cell_type": "code",
   "execution_count": 14,
   "metadata": {},
   "outputs": [],
   "source": [
    "NAME = \"Cata-vs-dog-cnn-64x2-{}\".format(int(time.time()))"
   ]
  },
  {
   "cell_type": "code",
   "execution_count": 17,
   "metadata": {},
   "outputs": [],
   "source": [
    "tensorboard = TensorBoard(log_dir = 'logs/{}'.format(NAME))"
   ]
  },
  {
   "cell_type": "code",
   "execution_count": null,
   "metadata": {},
   "outputs": [],
   "source": []
  },
  {
   "cell_type": "code",
   "execution_count": 2,
   "metadata": {},
   "outputs": [],
   "source": [
    "X = pickle.load(open(\"X.pickle\", 'rb'))  # calling the saved model \n",
    "y = pickle.load(open(\"y.pickle\", 'rb'))\n",
    "\n",
    "# Normalize the image data\n",
    "\n",
    "X = X/255.0\n"
   ]
  },
  {
   "cell_type": "code",
   "execution_count": 7,
   "metadata": {},
   "outputs": [],
   "source": [
    "model = Sequential()\n",
    "model.add(Conv2D(64, (3,3), input_shape = X.shape[1:]))\n",
    "model.add(Activation(\"relu\"))\n",
    "model.add(MaxPooling2D(pool_size = (2, 2)))\n",
    "\n",
    "model.add(Conv2D(64, (3,3), input_shape = X.shape[1:]))\n",
    "model.add(Activation(\"relu\"))\n",
    "model.add(MaxPooling2D(pool_size = (2, 2)))\n",
    "\n",
    "model.add(Flatten())   # this converts 3D feature maps to 1D feature vectors\n",
    "model.add(Dense(64))\n",
    "model.add(Activation(\"relu\"))\n",
    "\n",
    "model.add(Dense(1))\n",
    "model.add(Activation('sigmoid'))\n"
   ]
  },
  {
   "cell_type": "code",
   "execution_count": 8,
   "metadata": {},
   "outputs": [],
   "source": [
    "model.compile(loss = \"binary_crossentropy\", optimizer = 'adam', \n",
    "              metrics = ['accuracy'])"
   ]
  },
  {
   "cell_type": "code",
   "execution_count": 9,
   "metadata": {},
   "outputs": [
    {
     "data": {
      "text/plain": [
       "(2023,)"
      ]
     },
     "execution_count": 9,
     "metadata": {},
     "output_type": "execute_result"
    }
   ],
   "source": [
    "y.shape"
   ]
  },
  {
   "cell_type": "code",
   "execution_count": 21,
   "metadata": {},
   "outputs": [
    {
     "name": "stdout",
     "output_type": "stream",
     "text": [
      "Epoch 1/10\n",
      "57/57 [==============================] - 7s 124ms/step - loss: 0.0902 - accuracy: 0.9692 - val_accuracy: 0.6798 - val_loss: 1.6430\n",
      "Epoch 2/10\n",
      "57/57 [==============================] - 7s 118ms/step - loss: 0.0895 - accuracy: 0.9670 - val_accuracy: 0.6453 - val_loss: 1.6299\n",
      "Epoch 3/10\n",
      "57/57 [==============================] - 6s 107ms/step - loss: 0.0374 - accuracy: 0.9896 - val_accuracy: 0.6650 - val_loss: 1.7437\n",
      "Epoch 4/10\n",
      "57/57 [==============================] - 6s 106ms/step - loss: 0.0108 - accuracy: 0.9984 - val_accuracy: 0.6650 - val_loss: 1.8242\n",
      "Epoch 5/10\n",
      "57/57 [==============================] - 7s 115ms/step - loss: 0.0025 - accuracy: 1.0000 - val_accuracy: 0.6700 - val_loss: 1.8935\n",
      "Epoch 6/10\n",
      "57/57 [==============================] - 6s 113ms/step - loss: 0.0014 - accuracy: 1.0000 - val_accuracy: 0.6650 - val_loss: 1.9474\n",
      "Epoch 7/10\n",
      "57/57 [==============================] - 6s 111ms/step - loss: 0.0010 - accuracy: 1.0000 - val_accuracy: 0.6601 - val_loss: 1.9862\n",
      "Epoch 8/10\n",
      "57/57 [==============================] - 6s 110ms/step - loss: 8.2283e-04 - accuracy: 1.0000 - val_accuracy: 0.6601 - val_loss: 2.0186\n",
      "Epoch 9/10\n",
      "57/57 [==============================] - 7s 119ms/step - loss: 6.9358e-04 - accuracy: 1.0000 - val_accuracy: 0.6601 - val_loss: 2.0487\n",
      "Epoch 10/10\n",
      "57/57 [==============================] - 6s 107ms/step - loss: 6.0234e-04 - accuracy: 1.0000 - val_accuracy: 0.6650 - val_loss: 2.0825\n"
     ]
    },
    {
     "data": {
      "text/plain": [
       "<tensorflow.python.keras.callbacks.History at 0x7fa1e830d748>"
      ]
     },
     "execution_count": 21,
     "metadata": {},
     "output_type": "execute_result"
    }
   ],
   "source": [
    "model.fit(X, y, batch_size=32, epochs = 10, validation_split= 0.1, callbacks = [tensorboard])"
   ]
  },
  {
   "cell_type": "code",
   "execution_count": 26,
   "metadata": {},
   "outputs": [
    {
     "name": "stdout",
     "output_type": "stream",
     "text": [
      "The tensorboard extension is already loaded. To reload it, use:\n",
      "  %reload_ext tensorboard\n"
     ]
    },
    {
     "data": {
      "text/plain": [
       "Reusing TensorBoard on port 6007 (pid 14127), started 0:04:03 ago. (Use '!kill 14127' to kill it.)"
      ]
     },
     "metadata": {},
     "output_type": "display_data"
    },
    {
     "data": {
      "text/html": [
       "\n",
       "      <iframe id=\"tensorboard-frame-9bae3f8c0cdfd936\" width=\"100%\" height=\"800\" frameborder=\"0\">\n",
       "      </iframe>\n",
       "      <script>\n",
       "        (function() {\n",
       "          const frame = document.getElementById(\"tensorboard-frame-9bae3f8c0cdfd936\");\n",
       "          const url = new URL(\"/\", window.location);\n",
       "          url.port = 6007;\n",
       "          frame.src = url;\n",
       "        })();\n",
       "      </script>\n",
       "  "
      ],
      "text/plain": [
       "<IPython.core.display.HTML object>"
      ]
     },
     "metadata": {},
     "output_type": "display_data"
    }
   ],
   "source": [
    "%load_ext tensorboard\n",
    "%tensorboard --logdir logs"
   ]
  }
 ],
 "metadata": {
  "kernelspec": {
   "display_name": "Python 3",
   "language": "python",
   "name": "python3"
  },
  "language_info": {
   "codemirror_mode": {
    "name": "ipython",
    "version": 3
   },
   "file_extension": ".py",
   "mimetype": "text/x-python",
   "name": "python",
   "nbconvert_exporter": "python",
   "pygments_lexer": "ipython3",
   "version": "3.5.2"
  }
 },
 "nbformat": 4,
 "nbformat_minor": 4
}
