{
 "cells": [
  {
   "cell_type": "code",
   "execution_count": 1,
   "metadata": {},
   "outputs": [],
   "source": [
    "import tensorflow as tf\n",
    "from tensorflow.keras.models import Sequential\n",
    "from tensorflow.keras.layers import Dense, Dropout, Activation, Flatten, Conv2D, MaxPooling2D\n",
    "import pickle"
   ]
  },
  {
   "cell_type": "code",
   "execution_count": 2,
   "metadata": {},
   "outputs": [],
   "source": [
    "X = pickle.load(open(\"X.pickle\", 'rb'))  # calling the saved model \n",
    "y = pickle.load(open(\"y.pickle\", 'rb'))\n",
    "\n",
    "# Normalize the image data\n",
    "\n",
    "X = X/255.0\n"
   ]
  },
  {
   "cell_type": "code",
   "execution_count": 3,
   "metadata": {},
   "outputs": [],
   "source": [
    "model = Sequential()\n",
    "model.add(Conv2D(64, (3,3), input_shape = X.shape[1:]))\n",
    "model.add(Activation(\"relu\"))\n",
    "model.add(MaxPooling2D(pool_size = (2, 2)))\n",
    "\n",
    "model.add(Conv2D(64, (3,3), input_shape = X.shape[1:]))\n",
    "model.add(Activation(\"relu\"))\n",
    "model.add(MaxPooling2D(pool_size = (2, 2)))\n",
    "\n",
    "model.add(Flatten())\n",
    "model.add(Dense(64))\n",
    "\n",
    "model.add(Dense(1))\n",
    "model.add(Activation('sigmoid'))\n"
   ]
  },
  {
   "cell_type": "code",
   "execution_count": 4,
   "metadata": {},
   "outputs": [],
   "source": [
    "model.compile(loss = \"binary_crossentropy\", optimizer = 'adam', \n",
    "              metrics = ['accuracy'])"
   ]
  },
  {
   "cell_type": "code",
   "execution_count": 8,
   "metadata": {},
   "outputs": [
    {
     "data": {
      "text/plain": [
       "(2023,)"
      ]
     },
     "execution_count": 8,
     "metadata": {},
     "output_type": "execute_result"
    }
   ],
   "source": [
    "y.shape"
   ]
  },
  {
   "cell_type": "code",
   "execution_count": 7,
   "metadata": {},
   "outputs": [
    {
     "name": "stdout",
     "output_type": "stream",
     "text": [
      "Epoch 1/10\n",
      "57/57 [==============================] - 8s 132ms/step - accuracy: 0.7099 - loss: 0.5725 - val_loss: 0.6637 - val_accuracy: 0.6108\n",
      "Epoch 2/10\n",
      "57/57 [==============================] - 8s 135ms/step - accuracy: 0.7412 - loss: 0.5277 - val_loss: 0.7021 - val_accuracy: 0.6108\n",
      "Epoch 3/10\n",
      "57/57 [==============================] - 7s 128ms/step - accuracy: 0.7775 - loss: 0.4618 - val_loss: 0.7199 - val_accuracy: 0.6305\n",
      "Epoch 4/10\n",
      "57/57 [==============================] - 8s 136ms/step - accuracy: 0.8242 - loss: 0.3943 - val_loss: 0.7329 - val_accuracy: 0.6453\n",
      "Epoch 5/10\n",
      "57/57 [==============================] - 8s 138ms/step - accuracy: 0.8610 - loss: 0.3411 - val_loss: 0.8650 - val_accuracy: 0.5961\n",
      "Epoch 6/10\n",
      "57/57 [==============================] - 8s 145ms/step - accuracy: 0.8731 - loss: 0.2977 - val_loss: 0.8906 - val_accuracy: 0.6256\n",
      "Epoch 7/10\n",
      "57/57 [==============================] - 8s 137ms/step - accuracy: 0.9071 - loss: 0.2305 - val_loss: 0.9694 - val_accuracy: 0.6207\n",
      "Epoch 8/10\n",
      "57/57 [==============================] - 8s 132ms/step - accuracy: 0.9346 - loss: 0.1690 - val_loss: 1.1776 - val_accuracy: 0.6305\n",
      "Epoch 9/10\n",
      "57/57 [==============================] - 8s 135ms/step - accuracy: 0.9588 - loss: 0.1184 - val_loss: 1.3999 - val_accuracy: 0.6059\n",
      "Epoch 10/10\n",
      "57/57 [==============================] - 8s 146ms/step - accuracy: 0.9703 - loss: 0.0883 - val_loss: 1.4614 - val_accuracy: 0.6650\n"
     ]
    },
    {
     "data": {
      "text/plain": [
       "<tensorflow.python.keras.callbacks.History at 0x7f3d6c286278>"
      ]
     },
     "execution_count": 7,
     "metadata": {},
     "output_type": "execute_result"
    }
   ],
   "source": [
    "model.fit(X, y, batch_size=32, epochs = 10, validation_split= 0.1)"
   ]
  }
 ],
 "metadata": {
  "kernelspec": {
   "display_name": "Python 3",
   "language": "python",
   "name": "python3"
  },
  "language_info": {
   "codemirror_mode": {
    "name": "ipython",
    "version": 3
   },
   "file_extension": ".py",
   "mimetype": "text/x-python",
   "name": "python",
   "nbconvert_exporter": "python",
   "pygments_lexer": "ipython3",
   "version": "3.5.2"
  }
 },
 "nbformat": 4,
 "nbformat_minor": 4
}
